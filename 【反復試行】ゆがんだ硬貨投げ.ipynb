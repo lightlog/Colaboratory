{
  "nbformat": 4,
  "nbformat_minor": 0,
  "metadata": {
    "colab": {
      "name": "【反復試行】ゆがんだ硬貨投げ.ipynb",
      "version": "0.3.2",
      "provenance": []
    },
    "kernelspec": {
      "name": "python3",
      "display_name": "Python 3"
    }
  },
  "cells": [
    {
      "cell_type": "markdown",
      "metadata": {
        "id": "view-in-github",
        "colab_type": "text"
      },
      "source": [
        "[View in Colaboratory](https://colab.research.google.com/github/lightlog/Colaboratory/blob/master/%E3%80%90%E5%8F%8D%E5%BE%A9%E8%A9%A6%E8%A1%8C%E3%80%91%E3%82%86%E3%81%8C%E3%82%93%E3%81%A0%E7%A1%AC%E8%B2%A8%E6%8A%95%E3%81%92.ipynb)"
      ]
    },
    {
      "metadata": {
        "id": "J-8__-hUXrAk",
        "colab_type": "code",
        "colab": {
          "base_uri": "https://localhost:8080/",
          "height": 509
        },
        "outputId": "ded8788e-97d2-4b7c-95d6-31d91a6ed1c1"
      },
      "cell_type": "code",
      "source": [
        "# 使用するライブラリ\n",
        "import math\n",
        "import matplotlib.pyplot as plt\n",
        "from fractions import Fraction\n",
        "\n",
        "# 組み合わせの場合の数を求める関数を定義\n",
        "def Combination(n, m):\n",
        "  if n >= m and m >= 0:\n",
        "    return Fraction(math.factorial(n), math.factorial(m) * math.factorial(n - m))\n",
        "  else:\n",
        "    return 0\n",
        "\n",
        "# 歪んだ硬貨を投げる回数\n",
        "N = 3\n",
        "\n",
        "# 硬貨の表が出る確率\n",
        "mu = Fraction(1,2) # 確率を分数で入力： Fraction(分子,分母)\n",
        "\n",
        "# 確率の計算\n",
        "Range = range(N+1) # 定義域 (domain)\n",
        "P = [] # 求める確率 (probability)\n",
        "for i in Range:\n",
        "  P.append( Combination(N,i) * (mu**i) * ((1-mu)**(N-i)) )\n",
        "\n",
        "# 確率の計算結果を文章で表示\n",
        "M = 10 # N < M のとき, 確率計算の結果を文章で出力\n",
        "if N < M:\n",
        "  print(\"ゆがんだ硬貨の表が出る確率：\",mu,\"\\n\")\n",
        "  for i in Range:\n",
        "    print(N,\"回硬貨を投げて\", i,\"回表が出る確率：\", P[i])\n",
        "  print(\"\\n確率の合計：\",sum(P)) # 全ての確率を足して１になることを確認\n",
        "\n",
        "# 確率の計算結果をグラフで表示：横軸を表が出る回数、縦軸をその確率とするグラフ\n",
        "plt.ylim(ymax = 1) # グラフの上限を1に固定する \n",
        "plt.xlabel(\"The number of success\")\n",
        "plt.ylabel(\"Probability\")\n",
        "plt.bar(Range, P)\n",
        "plt.show()"
      ],
      "execution_count": 5,
      "outputs": [
        {
          "output_type": "stream",
          "text": [
            "ゆがんだ硬貨の表が出る確率： 1/2 \n",
            "\n",
            "3 回硬貨を投げて 0 回表が出る確率： 1/8\n",
            "3 回硬貨を投げて 1 回表が出る確率： 3/8\n",
            "3 回硬貨を投げて 2 回表が出る確率： 3/8\n",
            "3 回硬貨を投げて 3 回表が出る確率： 1/8\n",
            "\n",
            "確率の合計： 1\n"
          ],
          "name": "stdout"
        },
        {
          "output_type": "display_data",
          "data": {
            "image/png": "[encoded data removed]",
            "text/plain": [
              "<matplotlib.figure.Figure at 0x7fda2fa00ba8>"
            ]
          },
          "metadata": {
            "tags": []
          }
        }
      ]
    }
  ]
}