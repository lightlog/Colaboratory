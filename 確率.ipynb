{
  "nbformat": 4,
  "nbformat_minor": 0,
  "metadata": {
    "colab": {
      "name": "確率.ipynb",
      "version": "0.3.2",
      "provenance": []
    },
    "kernelspec": {
      "name": "python3",
      "display_name": "Python 3"
    }
  },
  "cells": [
    {
      "cell_type": "markdown",
      "metadata": {
        "id": "view-in-github",
        "colab_type": "text"
      },
      "source": [
        "[View in Colaboratory](https://colab.research.google.com/github/lightlog/Colaboratory/blob/master/%E7%A2%BA%E7%8E%87.ipynb)"
      ]
    },
    {
      "metadata": {
        "id": "8UzGPnd-G9ND",
        "colab_type": "code",
        "colab": {
          "base_uri": "https://localhost:8080/",
          "height": 364
        },
        "outputId": "b644b1ec-c09f-4dd5-8fcd-8015e19e5053"
      },
      "cell_type": "code",
      "source": [
        "# n 人いたときに誕生日が被る確率\n",
        "import math\n",
        "import matplotlib.pyplot as plt\n",
        "\n",
        "# 順列の数を求める関数を定義\n",
        "def Permutation(n, m):\n",
        "  if n >= m and m >= 0:\n",
        "    return int(math.factorial(n) / math.factorial(n - m))\n",
        "  else:\n",
        "    return 0\n",
        "\n",
        "# マジックナンバーの除去\n",
        "N = range(60)\n",
        "P = []\n",
        "d = 365\n",
        "\n",
        "# \n",
        "for n in N:\n",
        "  P.append(1 - Permutation(d,n) / (d**n))\n",
        "  \n",
        "plt.bar(N, P)"
      ],
      "execution_count": 0,
      "outputs": [
        {
          "output_type": "execute_result",
          "data": {
            "text/plain": [
              "<Container object of 60 artists>"
            ]
          },
          "metadata": {
            "tags": []
          },
          "execution_count": 97
        },
        {
          "output_type": "display_data",
          "data": {
            "image/png": "[encoded data removed]",
            "text/plain": [
              "<matplotlib.figure.Figure at 0x7f1617381198>"
            ]
          },
          "metadata": {
            "tags": []
          }
        }
      ]
    },
    {
      "metadata": {
        "id": "59BQagYmHS1u",
        "colab_type": "code",
        "colab": {
          "base_uri": "https://localhost:8080/",
          "height": 122
        },
        "outputId": "a378fda6-12e9-4254-b393-c82356af9b8e"
      },
      "cell_type": "code",
      "source": [
        "import itertools\n",
        "\n",
        "def list_permu(a, b=None):\n",
        "  for arr in itertools.permutations(a, b):\n",
        "    print(arr)\n",
        "\n",
        "list_permu(range(1,4))"
      ],
      "execution_count": 0,
      "outputs": [
        {
          "output_type": "stream",
          "text": [
            "(1, 2, 3)\n",
            "(1, 3, 2)\n",
            "(2, 1, 3)\n",
            "(2, 3, 1)\n",
            "(3, 1, 2)\n",
            "(3, 2, 1)\n"
          ],
          "name": "stdout"
        }
      ]
    },
    {
      "metadata": {
        "id": "gtd86du8HpZM",
        "colab_type": "code",
        "colab": {
          "base_uri": "https://localhost:8080/",
          "height": 419
        },
        "outputId": "e54f494d-7819-40c6-858a-c60fb02b2cb4"
      },
      "cell_type": "code",
      "source": [
        "# 復元抽出における反復試行の確率\n",
        "import math\n",
        "import matplotlib.pyplot as plt\n",
        "from fractions import Fraction\n",
        "\n",
        "# 組み合わせの場合の数を求める関数を定義\n",
        "def Combination(n, m):\n",
        "  if n >= m and m >= 0:\n",
        "    return int(math.factorial(n) / (math.factorial(m) * math.factorial(n - m)))\n",
        "  else:\n",
        "    return 0\n",
        "\n",
        "# 歪んだ硬貨を投げる回数\n",
        "N = 30\n",
        "\n",
        "# 硬貨の表が出る確率\n",
        "mu = Fraction(1,3)\n",
        "print(\"ゆがんだ硬貨の表が出る確率：\",mu,\"\\n\")\n",
        "\n",
        "# 求める確率\n",
        "P = []\n",
        "\n",
        "# 確率の計算\n",
        "for i in range(N+1):\n",
        "  P.append( Combination(N,i) * (mu**i) * ((1-mu)**(N-i)) )\n",
        "#   print(N,\"回硬貨を投げて\",i,\"回表が出る確率：\",P[-1])\n",
        "print(\"\\n確率の合計：\",sum(P)) # 全ての確率を足し上げて１になることを確認\n",
        "\n",
        "# 横軸を表が出る回数、縦軸をその確率とするグラフ\n",
        "plt.ylim(ymax = 1)\n",
        "plt.bar(range(N+1), P)\n",
        "plt.show()"
      ],
      "execution_count": 16,
      "outputs": [
        {
          "output_type": "stream",
          "text": [
            "ゆがんだ硬貨の表が出る確率： 1/3 \n",
            "\n",
            "\n",
            "確率の合計： 1\n"
          ],
          "name": "stdout"
        },
        {
          "output_type": "display_data",
          "data": {
            "image/png": "[encoded data removed]",
            "text/plain": [
              "<matplotlib.figure.Figure at 0x7fca73352b38>"
            ]
          },
          "metadata": {
            "tags": []
          }
        }
      ]
    },
    {
      "metadata": {
        "id": "a8xa7X9EImND",
        "colab_type": "code",
        "colab": {}
      },
      "cell_type": "code",
      "source": [
        ""
      ],
      "execution_count": 0,
      "outputs": []
    }
  ]
}