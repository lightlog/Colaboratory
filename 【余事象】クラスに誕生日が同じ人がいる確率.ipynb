{
  "nbformat": 4,
  "nbformat_minor": 0,
  "metadata": {
    "colab": {
      "name": "【余事象】クラスに誕生日が同じ人がいる確率",
      "version": "0.3.2",
      "provenance": []
    },
    "kernelspec": {
      "name": "python3",
      "display_name": "Python 3"
    }
  },
  "cells": [
    {
      "cell_type": "markdown",
      "metadata": {
        "id": "view-in-github",
        "colab_type": "text"
      },
      "source": [
        "[View in Colaboratory](https://colab.research.google.com/github/lightlog/Colaboratory/blob/master/%E3%80%90%E4%BD%99%E4%BA%8B%E8%B1%A1%E3%80%91%E3%82%AF%E3%83%A9%E3%82%B9%E3%81%AB%E8%AA%95%E7%94%9F%E6%97%A5%E3%81%8C%E5%90%8C%E3%81%98%E4%BA%BA%E3%81%8C%E3%81%84%E3%82%8B%E7%A2%BA%E7%8E%87.ipynb)"
      ]
    },
    {
      "metadata": {
        "id": "Q3t8mBIax00T",
        "colab_type": "code",
        "colab": {
          "base_uri": "https://localhost:8080/",
          "height": 419
        },
        "outputId": "b538771f-af5d-4374-e1da-3be621c5fb1d"
      },
      "cell_type": "code",
      "source": [
        "# N人のクラスで、誕生日が同じ人がいる確率\n",
        "import math\n",
        "import matplotlib.pyplot as plt\n",
        "from fractions import Fraction\n",
        "\n",
        "# 順列の数を求める関数を定義\n",
        "def Permutation(n, m):\n",
        "  if n >= m and m >= 0:\n",
        "    return Fraction(math.factorial(n), math.factorial(n - m))\n",
        "  else:\n",
        "    return 0\n",
        "\n",
        "# １年の日数\n",
        "Days = 365\n",
        "\n",
        "# クラスの人数\n",
        "N = 30\n",
        "\n",
        "# 確率の計算\n",
        "Range = range(N+1) # 定義域\n",
        "P = [] # 求める確率\n",
        "for i in Range:\n",
        "  P.append( 1 - Fraction(Permutation(Days,i), (Days**i)) )\n",
        "\n",
        "# 確率の計算結果を文章で表示\n",
        "tr = 1 # 表示する小数点\n",
        "print(N, \"人のクラスで誕生日が同じ人がいる確率：\", math.floor(P[-1]*10**(2+tr))/10**tr, \"% (小数点第\", tr ,\"位まで表示)\")\n",
        "\n",
        "# 確率の計算結果をグラフで表示：横軸を人数、縦軸を人数毎の確率とするグラフ\n",
        "print(\"\\nクラスに誕生日が同じ人がいる確率が、人数の増加とともに上昇していく様子\")\n",
        "plt.ylim(ymax = 1) # グラフの上限を1に固定する \n",
        "plt.xlabel(\"The number of classmates\")\n",
        "plt.ylabel(\"Probability\")\n",
        "plt.bar(Range, P)\n",
        "plt.show()"
      ],
      "execution_count": 70,
      "outputs": [
        {
          "output_type": "stream",
          "text": [
            "30 人のクラスで誕生日が同じ人がいる確率： 70.6 % (小数点第 1 位まで表示)\n",
            "\n",
            "クラスに誕生日が同じ人がいる確率が、人数の増加とともに上昇していく様子\n"
          ],
          "name": "stdout"
        },
        {
          "output_type": "display_data",
          "data": {
            "image/png": "[encoded data removed]",
            "text/plain": [
              "<matplotlib.figure.Figure at 0x7f8ca00d92b0>"
            ]
          },
          "metadata": {
            "tags": []
          }
        }
      ]
    }
  ]
}